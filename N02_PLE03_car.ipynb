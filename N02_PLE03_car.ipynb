{
 "cells": [
  {
   "cell_type": "markdown",
   "metadata": {},
   "source": [
    "# Notebook 02: Implementación del Mountain Car Continuous\n",
    "## Realizado por Víctor Vega Sobral\n",
    "\n",
    "El objetivo de este notebook es implementar un modelo satisfactorio del problema del coche de la montaña, de la librería de OpenAI gymnasium. \n",
    "\n",
    "De esta forma, se podrá tener dos modelos de diferente complejidad en esta práctica y observar diferentes formas de afronar un problema de aprendizaje por refuerzo.\n",
    "\n",
    "\n",
    "\n",
    "<div style=\"text-align: center;\">\n",
    "  <img src=\"images/car.png\" alt=\"Imagen coche \" width=\"350\">\n",
    "</div>\n"
   ]
  },
  {
   "cell_type": "markdown",
   "metadata": {},
   "source": [
    "## Importación de bibliotecas necesarias"
   ]
  },
  {
   "cell_type": "code",
   "execution_count": 25,
   "metadata": {},
   "outputs": [],
   "source": [
    "import gymnasium as gym\n",
    "import numpy as np\n",
    "import random\n",
    "import matplotlib.pyplot as plt\n",
    "import pickle"
   ]
  },
  {
   "cell_type": "code",
   "execution_count": 26,
   "metadata": {},
   "outputs": [],
   "source": [
    "__author__ = \"Víctor Vega Sobral\""
   ]
  },
  {
   "cell_type": "markdown",
   "metadata": {},
   "source": [
    "## Referencias de interés\n",
    "\n",
    "1. [Documentación oficial de la librería gymnasium](https://gymnasium.farama.org/environments/classic_control/mountain_car_continuous/)\n",
    "\n",
    "2. [Video de youtube con explicación del problema](https://www.youtube.com/watch?v=_SWnNhM5w-g&t=72s)\n",
    "\n",
    "3. [Imagen de Research Gate con explicación del problema](https://www.researchgate.net/figure/Continuous-Mountain-Car-environment-a-Original-b-Safety-constrained_fig4_366211448)  "
   ]
  },
  {
   "cell_type": "markdown",
   "metadata": {},
   "source": [
    "## Explicación del problema\n",
    "\n",
    "Para una correcta explicación del problema, me remito a traducir la explicación ofrecida por la documentación oficial de OpenAI Gymnasium, añadiendo las modificaciones necesarias para adaptar las explicaciones al formato MarkDown, o añadir aclaraciones:\n",
    "\n",
    "### Descripción\n",
    "El Mountain Car MDP  consiste en un automóvil colocado aleatoriamente al fondo de un valle sinusoidal. Las únicas acciones posibles son las aceleraciones que se pueden aplicar al coche en cualquiera de las dos direcciones. El objetivo del MDP es acelerar estratégicamente el coche para alcanzar el estado objetivo en la cima de la colina derecha, haciendo uso de la inercia o momentum que este tenga.\n",
    "\n",
    "Existen dos versiones de este dominio en Gymnasium: una con acciones discretas y otra con acciones continuas. Esta versión utiliza acciones continuas y será la que se intentará resolver en este notebook.\n",
    "\n",
    "\n",
    "\n",
    "\n",
    "\n",
    "### Espacio de observaciones \n",
    "\n",
    "La observación es un ndarray con forma (2,), donde los elementos corresponden a:\n",
    "\n",
    "| Num | Observación                    | Mínimo | Máximo | Unidad        |\n",
    "|-----|--------------------------------|--------|--------|---------------|\n",
    "| 0   | Posición del coche en el eje x | -Inf   | Inf    | posición (m)  |\n",
    "| 1   | Velocidad del coche            | -Inf   | Inf    | velocidad (m/s) |\n",
    "\n",
    "\n",
    "### Espacio de acciones\n",
    "La acción es un ndarray con forma (1,), que representa la fuerza direccional aplicada al coche. La acción se limita al rango [-1,1] y se multiplica por una potencia de 0.0015.\n",
    "\n",
    "### Dinámica de transición\n",
    "Dada una acción, el coche sigue las siguientes dinámicas de transición:\n",
    "\n",
    "\n",
    "$velocity(t+1) = velocity(t) + force * self.power - 0.0025 * cos(3 * position(t))$\n",
    "\n",
    "$position(t+1) = position(t) + velocity(t+1)$\n",
    "\n",
    "Donde:\n",
    "\n",
    "- **force** es la acción limitada al rango [-1,1].\n",
    "- **power** es una constante de 0.0015.\n",
    "- **Las colisiones en cualquiera de los extremos son inelásticas**, con la velocidad establecida en 0 al chocar con la pared. La posición se limita al rango [-1.2, 0.6] y la velocidad al rango [-0.07, 0.07].\n",
    "\n",
    "### Recompensa\n",
    "Se recibe una recompensa negativa de $-0.1 * action^2$ en cada paso de tiempo para penalizar acciones de gran magnitud. \n",
    "\n",
    "Si el coche alcanza el objetivo, se añade una recompensa positiva de +100 a la recompensa negativa de ese paso.\n",
    "\n",
    "### Estado inicial\n",
    "1. La **posición inicial** del coche se asigna aleatoriamente dentro del rango [-0.6, -0.4].\n",
    "2. La **velocidad inicial** del coche siempre es 0.\n",
    "\n",
    "\n",
    "### Fin del episodio\n",
    "El episodio termina si ocurre cualquiera de las siguientes condiciones:\n",
    "\n",
    "- **Terminación:** La posición del coche es mayor o igual a 0.45 (posición objetivo en la cima de la colina derecha).\n",
    "- **Truncamiento**: La duración del episodio alcanza los 999 pasos.\n",
    "\n"
   ]
  },
  {
   "cell_type": "markdown",
   "metadata": {},
   "source": [
    "## ¿Cómo se va a abordar el problema?\n",
    "\n",
    "Para intentar solucionar este problema, se va a seguir la siguiente estrategia de resolución, resumida en esta ilustración que he realizado basándome en la información del video de Youtube:\n",
    "\n",
    "<div style=\"text-align: center;\">\n",
    "  <img src=\"images/explicacion_car.png\" alt=\"Imagen de explicación del coche \" width=\"400\">\n",
    "</div>\n",
    "\n",
    "\n",
    "### Q-learning para el entrenamiento del agente\n",
    "\n",
    "Q-learning es un algoritmo de aprendizaje por refuerzo que busca enseñar al agente a tomar decisiones óptimas basándose en el entorno.\n",
    "\n",
    "1. **Tabla de búsqueda**: \n",
    "    - El resultado final del entrenamiento con Q-learning es una tabla que contiene valores para cada combinación de estado (en este caso, velocidad y posición) y acción.\n",
    "    - Cada valor representa una estimación del beneficio de tomar una decisión específica en dicho estado.\n",
    "    - Esto se observa en las estiquetas $P_0$ y $V_0$, que llevan a una acción en la tabla Q.\n",
    "\n",
    "2. **Decisión basada en valores máximos**: \n",
    "    - Siguiendo el ejemplo de la tabla, el agente seleccionará 0.3. Esto se debe a que en Q-learning, para un estado dado, la acción óptima es aquella que tiene el valor más alto en la tabla. \n",
    "\n",
    "3. **Adaptación al modelo continuo**: en este caso, a diferencia de problemas con estados discretos, el entorno de Mountain Car tiene un número infinito de combinaciones de posición y velocidad debido a su naturaleza.\n",
    "\n",
    "    - Por tanto, se divide el espacio de posición y velocidad en segmentos o intervalos, como se observa en la ilustración.\n",
    "\n",
    "    - Cada segmento representa un estado discreto, por tantno, si la posición del coche es $P_0$, se le asignará el estado 0, y lo mismo ocurre con la velocidad.\n",
    "\n",
    "### Implementación en el código\n",
    "\n",
    "Se procede a implementar en código para la resolución del agente.\n",
    "\n",
    "\n",
    "\n",
    "\n"
   ]
  },
  {
   "cell_type": "markdown",
   "metadata": {},
   "source": [
    "## Creación de un entorno de prueba\n",
    "\n",
    "Primero, creamos un entorno de prueba para comprobar que el modelo se está renderizando correctamente en el Notebook. Posteriormente, se comentarán estas líneas de código para que no bloqueen la ejecución de las celdas posteriores.\n"
   ]
  },
  {
   "cell_type": "code",
   "execution_count": 27,
   "metadata": {},
   "outputs": [],
   "source": [
    "# def run():\n",
    "\n",
    "#     env = gym.make('MountainCar-v0', render_mode= 'human')\n",
    "\n",
    "#     state = env.reset()[0] # Posicion de salida, con la velocidad siempre a 0.\n",
    "#     terminated = False # Booleano que pasa a True cuando se lllega a la terminacion: se alcanza la meta\n",
    "\n",
    "\n",
    "#     rewards = 0\n",
    "\n",
    "#     while(not terminated and rewards> -1000):\n",
    "        \n",
    "#         # Escogemos una accion aleatoria (0= conduce a la izquierda, 1= neutral, 2= derecha)\n",
    "#         action = env.action_space.sample()\n",
    "\n",
    "#         new_state, reward, terminated,_,_ = env.step(action)\n",
    "\n",
    "#         state = new_state\n",
    "\n",
    "#         rewards += reward\n",
    "#     env.close()\n",
    "\n",
    "# if __name__ == '__main__':\n",
    "#     run()"
   ]
  },
  {
   "cell_type": "markdown",
   "metadata": {},
   "source": [
    "El resultado es correcto, por lo que se procede a realizar los cambios al código en base a este esqueleto. Para mayor claridad, se dividirá el código en diferentes funciones, cada una encargada de un aspecto diferente, para luego integrarlas todas en un bucle de lógica principal."
   ]
  },
  {
   "cell_type": "markdown",
   "metadata": {},
   "source": [
    "#### Creación del entorno\n",
    "\n",
    "Creamos el entorno de gymnasium, estableciendo el parámetro render= False que nos indica que no se debe renderizar el modelo.\n",
    "\n",
    "Se devuelve la variable env, donde solo se activará la renderización humana si el booleano render está en True."
   ]
  },
  {
   "cell_type": "code",
   "execution_count": 28,
   "metadata": {},
   "outputs": [],
   "source": [
    "def create_environment(render=False):\n",
    "    \"\"\"\n",
    "    Creación del environment de gymnasium\n",
    "\n",
    "    Args: \n",
    "        render: indica si se debe renderizar la ventana de Pygame o no\n",
    "\n",
    "    Returns:\n",
    "        env: variable encargada de renderizar la pantalla.\n",
    "    \"\"\"\n",
    "    env = gym.make('MountainCar-v0', render_mode='human' if render else None)\n",
    "    return env\n"
   ]
  },
  {
   "cell_type": "markdown",
   "metadata": {},
   "source": [
    "#### Creación de los segmentos de estado\n",
    "\n",
    "Se crean los segmentos de estado posiciones y velocidades, concretamente en 20, con los valores estipulados anteriormente.\n",
    "\n",
    "- Posición: entre -1.7 y 1.7.\n",
    "- Velocidad: entre -0.07 y 0.07.\n"
   ]
  },
  {
   "cell_type": "code",
   "execution_count": 29,
   "metadata": {},
   "outputs": [],
   "source": [
    "def create_state_spaces(env, segments=20):\n",
    "    \"\"\"\n",
    "    Se crean los segmentos de estados, con los intervalos específicos\n",
    "\n",
    "    Args:\n",
    "        env: entorno del agente\n",
    "        segments: número de segmentos a dividir\n",
    "\n",
    "    Returns:\n",
    "        pos_space: intervalos de posición entre -1.7 y 1.7\n",
    "        vel_space: intervalos de velocidades entre -0.07 y 0.07\n",
    "    \"\"\"\n",
    "    pos_space = np.linspace(env.observation_space.low[0], env.observation_space.high[0], segments)\n",
    "    vel_space = np.linspace(env.observation_space.low[1], env.observation_space.high[1], segments)\n",
    "    return pos_space, vel_space"
   ]
  },
  {
   "cell_type": "markdown",
   "metadata": {},
   "source": [
    "#### Inicialización de la tabla Q\n",
    "\n",
    "Se inicializa como un array de 20x20x3: 20 segmentos de posiciones y velocidades, con 3 acciones posibles.\n",
    "\n"
   ]
  },
  {
   "cell_type": "code",
   "execution_count": 30,
   "metadata": {},
   "outputs": [],
   "source": [
    "def initialize_q_table(pos_space, vel_space, action_space, is_training=True, file_name='mountain_car.pkl'):\n",
    "    \"\"\"\n",
    "    Inicialización de la tabla q\n",
    "\n",
    "    Args:\n",
    "        pos_space: intervalos de posicion\n",
    "        vel_space: intervalos de velocidad\n",
    "        action_space: entorno de acción\n",
    "        is_training: indica si se está entrenando o no el modelo\n",
    "        file_name: en caso contrario a is_training, se carga el archivo de los pesos\n",
    "    Returns:\n",
    "        q: tabla Q, array 20x20x3, con 20 segmentos de posiciones y velocidades y 3 accione por tomar\n",
    "    \"\"\"\n",
    "    \n",
    "    if is_training:\n",
    "        q = np.zeros((len(pos_space), len(vel_space), action_space.n))\n",
    "    else:\n",
    "        with open(file_name, 'rb') as f:\n",
    "            q = pickle.load(f)\n",
    "    return q"
   ]
  },
  {
   "cell_type": "markdown",
   "metadata": {},
   "source": [
    "#### Discretización del estado\n",
    "Clasificamos las coordenadas del estado de un sistema (posiciones y velocidades) dentro de intervalos predefinidos."
   ]
  },
  {
   "cell_type": "code",
   "execution_count": 31,
   "metadata": {},
   "outputs": [],
   "source": [
    "def discretize_state(state, pos_space, vel_space):\n",
    "    \"\"\"\n",
    "    Función para discretizar el estado a través de intervalos\n",
    "    Se establece la posicion del coche a traves de digitize, que nos devuelve\n",
    "    en qué segmento se encuentra\n",
    "\n",
    "    Args: \n",
    "        state: estado\n",
    "        pos_space: espacio de posicion en el que se encuentra el coche\n",
    "        vel_space: espacio de velocidad \n",
    "\n",
    "    Returns:\n",
    "        state_p: estado actual de posicion del coche\n",
    "        state_v: estado actual de velocidad del coche\n",
    "    \"\"\"\n",
    "    state_p = np.digitize(state[0], pos_space)\n",
    "    state_v = np.digitize(state[1], vel_space)\n",
    "    return state_p, state_v"
   ]
  },
  {
   "cell_type": "markdown",
   "metadata": {},
   "source": [
    "#### Selección de la acción\n",
    "\n",
    "El agente escoge qué decisión tomar. Puede escoger una accion aleatoria (0= conduce a la izquierda, 1= neutral, 2= derecha) si el número generado aleatorio es menor que epsilon (establecido como número de acciones aleatorias), o bien elegir una acción a través del valor máximo de la tabla Q como se explicó anteriormente en el funcionamiento del algoritmo de Q-learning.\n"
   ]
  },
  {
   "cell_type": "code",
   "execution_count": 32,
   "metadata": {},
   "outputs": [],
   "source": [
    "def select_action(q, state_p, state_v, epsilon, env, rng, is_training):\n",
    "    \"\"\"\n",
    "    El agente selecciona la acción a llevar a cabo.\n",
    "    Si se está entrenando y se cumple que el número random es menor a epsilon,\n",
    "    se toma una acción aleatoria.\n",
    "    En caso contrario, se va a la tabla q y escoge el valor máximo.\n",
    "    Args: \n",
    "        q: tabla q\n",
    "        state_p: estado actual de posicion del coche\n",
    "        state_v: estado actual de velocidad del coche\n",
    "        epsilon: número de deciciones aleatorias que toma el agente\n",
    "        env: entorno\n",
    "        rng: generador de números aleatorios\n",
    "        is_training: booleano para saber si se está entrenando el modelo\n",
    "\n",
    "    Returns:\n",
    "        action: acción llevada a cabo por el agente\n",
    "    \"\"\"\n",
    "    if is_training and rng.random() < epsilon:\n",
    "        action = env.action_space.sample()\n",
    "    else:\n",
    "        action = np.argmax(q[state_p, state_v, :])\n",
    "    return action"
   ]
  },
  {
   "cell_type": "markdown",
   "metadata": {},
   "source": [
    "#### Actualización de la tabla q \n",
    "\n",
    "Se van actualizando los valores de la tabla q, a través de la *Ecuación de Bellman*:\n",
    "\n",
    "$$\n",
    "Q(s, a) \\leftarrow Q(s, a) + \\alpha \\cdot \\left[ r + \\gamma \\cdot \\max_{a'} Q(s', a') - Q(s, a) \\right]\n",
    "$$\n",
    "\n",
    "Donde:\n",
    "\n",
    "- \\( Q(s, a) \\): Valor Q actual para el estado \\( s \\) y la acción \\( a \\).\n",
    "- \\( $\\alpha$): Tasa de aprendizaje (*learning rate*).\n",
    "- \\( $r \\): Recompensa inmediata obtenida al tomar la acción \\( a \\) en el estado \\( s \\).\n",
    "- \\( $\\gamma$): Factor de descuento (*discount factor*), que pondera las recompensas futuras.\n",
    "- \\( $\\max_{a'} Q(s', a')$): Estimación del valor futuro máximo esperado desde el nuevo estado \\( s' \\).\n",
    "- \\( $s$ ): Estado actual.\n",
    "- \\( $a$ ): Acción tomada.\n",
    "- \\( $s$' ): Nuevo estado alcanzado después de tomar la acción \\( a \\).\n",
    "- \\( $a$' ): Todas las acciones posibles desde el nuevo estado \\( s' \\).\n",
    "\n"
   ]
  },
  {
   "cell_type": "code",
   "execution_count": 33,
   "metadata": {},
   "outputs": [],
   "source": [
    "def update_q_table(q, state_p, state_v, action, reward, new_state_p, new_state_v, learning_rate, discount_factor):\n",
    "    \"\"\"\n",
    "    Actualiza la tabla Q utilizando la ecuación de Bellman en Q-learning.\n",
    "\n",
    "    La actualización se realiza de acuerdo a la fórmula:\n",
    "    Q(s, a) ← Q(s, a) + α * [r + γ * max_a' Q(s', a') - Q(s, a)]\n",
    "    \n",
    "    Args:\n",
    "        q (np.ndarray): La tabla Q, que almacena los valores de acción-estado.\n",
    "        state_p (int): Índice del estado actual en el espacio de posiciones.\n",
    "        state_v (int): Índice del estado actual en el espacio de velocidades.\n",
    "        action (int): Acción tomada en el estado actual (0, 1, o 2).\n",
    "        reward (float): Recompensa obtenida por tomar la acción en el estado.\n",
    "        new_state_p (int): Índice del nuevo estado de posición después de la acción.\n",
    "        new_state_v (int): Índice del nuevo estado de velocidad después de la acción.\n",
    "        learning_rate_a (float): Tasa de aprendizaje (α).\n",
    "        discount_factor_g (float): Factor de descuento (γ) para la recompensa futura.\n",
    "\n",
    "    Returns:\n",
    "        np.ndarray: La tabla Q actualizada con el nuevo valor para el estado-acción.\n",
    "    \"\"\"\n",
    "    \n",
    "    q[state_p, state_v, action] += learning_rate * (\n",
    "        reward + discount_factor * np.max(q[new_state_p, new_state_v, :]) - q[state_p, state_v, action]\n",
    "    )"
   ]
  },
  {
   "cell_type": "markdown",
   "metadata": {},
   "source": [
    "#### Se guarda la tabla q\n",
    "\n",
    "Guardamos la tabla q al final del entrenamiento, guardándolo como un archivo de pesos .pkl con la librería *pickle*"
   ]
  },
  {
   "cell_type": "code",
   "execution_count": 34,
   "metadata": {},
   "outputs": [],
   "source": [
    "def save_q_table(q, file_name='mountain_car.pkl'):\n",
    "    \"\"\"\n",
    "    Guarda la tabla Q en un archivo utilizando pickle.\n",
    "\n",
    "    Esta función serializa la tabla Q y la guarda en un archivo para poder cargarla\n",
    "    posteriormente y continuar el entrenamiento o simplemente utilizar el modelo entrenado.\n",
    "\n",
    "    Args:\n",
    "        q (np.ndarray): La tabla Q que se desea guardar.\n",
    "        filename (str): Nombre del archivo donde se guardará la tabla Q (por defecto 'mountain_car.pkl').\n",
    "\n",
    "    Returns:\n",
    "        None: Esta función no devuelve nada, guarda directamente el archivo en el disco.\n",
    "    \"\"\"\n",
    "    with open(file_name, 'wb') as f:\n",
    "        pickle.dump(q, f)"
   ]
  },
  {
   "cell_type": "markdown",
   "metadata": {},
   "source": [
    "#### Graficamos las recompensas\n",
    "\n",
    "Una vez entrenado el modelo, se grafican las recompensas que se han ido obteniendo durante el entrenamiento, para su posterior análisis en otro punto.\n"
   ]
  },
  {
   "cell_type": "code",
   "execution_count": 35,
   "metadata": {},
   "outputs": [],
   "source": [
    "def plot_rewards(rewards_per_episode, episodes, smoothing_window=100):\n",
    "    \"\"\"\n",
    "    Dibuja y guarda un gráfico de las recompensas medias por episodio.\n",
    "\n",
    "    Esta función calcula la recompensa media de los últimos 100 episodios y\n",
    "    genera un gráfico de recompensas durante el entrenamiento.\n",
    "\n",
    "    Args:\n",
    "        rewards_per_episode (np.ndarray): Arreglo que contiene las recompensas obtenidas en cada episodio.\n",
    "        episodes (int): Número total de episodios.\n",
    "        filename (str): Nombre del archivo donde se guardará la gráfica (por defecto 'grafico_mountain_car.png').\n",
    "\n",
    "    Returns:\n",
    "        None: Esta función no devuelve nada, guarda directamente la gráfica en un archivo.\n",
    "    \"\"\"\n",
    "    \n",
    "    \n",
    "    # Cálculo de recompensas promedio\n",
    "    mean_rewards = np.zeros(episodes)\n",
    "    for t in range(episodes):\n",
    "        mean_rewards[t] = np.mean(rewards_per_episode[max(0, t - smoothing_window): (t + 1)])\n",
    "    \n",
    "    # Crear el gráfico\n",
    "    plt.figure(figsize=(10, 6))\n",
    "    plt.plot(mean_rewards, label='Recompensa Promedio', color='blue')\n",
    "    \n",
    "    # Personalizar eje y para mostrar rango positivo\n",
    "    min_reward = min(0, min(mean_rewards))  # Aseguramos que el mínimo no sea menor a 0\n",
    "    max_reward = max(mean_rewards) + 10    # Espacio extra por encima del máximo\n",
    "    plt.ylim(min_reward, max_reward)\n",
    "    \n",
    "    # Añadir línea base en y=0 para referencia\n",
    "    plt.axhline(0, color='gray', linestyle='--', linewidth=0.8)\n",
    "    \n",
    "    # Etiquetas y título\n",
    "    plt.xlabel('Episodios')\n",
    "    plt.ylabel('Recompensa promedio')\n",
    "    plt.title('Evolución de las recompensas promedio')\n",
    "    plt.legend()\n",
    "    plt.grid(alpha=0.3)\n",
    "\n",
    "    # Guardar o mostrar la gráfica\n",
    "    plt.savefig('grafico_mountain_car.png')\n",
    "    plt.show()"
   ]
  },
  {
   "cell_type": "markdown",
   "metadata": {},
   "source": [
    "#### Se ejecuta un episodio\n",
    "\n",
    "La siguiente función contempla la ejecución de un episodio del agente."
   ]
  },
  {
   "cell_type": "code",
   "execution_count": 36,
   "metadata": {},
   "outputs": [],
   "source": [
    "def run_episode(env, q, pos_space, vel_space, epsilon, rng, is_training, learning_rate, discount_factor):\n",
    "    \"\"\"\n",
    "    Ejecuta un solo episodio de entrenamiento o evaluación en el entorno de MountainCar.\n",
    "\n",
    "    Este método simula un episodio en el entorno y, dependiendo de si estamos entrenando o no,\n",
    "    actualiza la tabla Q con la información de cada paso del episodio.\n",
    "\n",
    "    Args:\n",
    "        env (gym.Env): El entorno de MountainCar.\n",
    "        q (np.ndarray): La tabla Q que se actualiza durante el entrenamiento.\n",
    "        is_training (bool): Si True, actualiza la tabla Q. Si False, usa la tabla Q entrenada.\n",
    "        pos_space (np.ndarray): Espacio de posiciones dividido en segmentos.\n",
    "        vel_space (np.ndarray): Espacio de velocidades dividido en segmentos.\n",
    "        epsilon (float): Tasa de exploración (probabilidad de tomar acciones aleatorias).\n",
    "        learning_rate_a (float): Tasa de aprendizaje (alpha).\n",
    "        discount_factor_g (float): Factor de descuento (gamma) para recompensas futuras.\n",
    "\n",
    "    Returns:\n",
    "        tuple: Una tupla que contiene:\n",
    "            - rewards (float): La recompensa total obtenida en el episodio.\n",
    "            - epsilon (float): El valor actualizado de epsilon después de este episodio.\n",
    "    \"\"\"\n",
    "    \n",
    "    state = env.reset()[0]\n",
    "    state_p, state_v = discretize_state(state, pos_space, vel_space)\n",
    "\n",
    "    terminated = False\n",
    "    rewards = 0\n",
    "\n",
    "    while not terminated and rewards > -1000:\n",
    "        action = select_action(q, state_p, state_v, epsilon, env, rng, is_training)\n",
    "        new_state, reward, terminated, _, _ = env.step(action)\n",
    "        new_state_p, new_state_v = discretize_state(new_state, pos_space, vel_space)\n",
    "\n",
    "        if is_training:\n",
    "            update_q_table(q, state_p, state_v, action, reward, new_state_p, new_state_v, learning_rate, discount_factor)\n",
    "\n",
    "        state_p, state_v = new_state_p, new_state_v\n",
    "        rewards += reward\n",
    "\n",
    "    return rewards\n"
   ]
  },
  {
   "cell_type": "markdown",
   "metadata": {},
   "source": [
    "#### Ajuste de epsilon\n",
    "\n",
    "Para ir ajustando el número de acciones aleatorias del agente, se crea una función que vaya ajustando epsilon conforme los episodios van pasando."
   ]
  },
  {
   "cell_type": "code",
   "execution_count": 37,
   "metadata": {},
   "outputs": [],
   "source": [
    "def adjust_epsilon(epsilon, decay_rate):\n",
    "    \"\"\"\n",
    "    Ajusta el valor de epsilon para reducir la exploración a medida que avanza el entrenamiento.\n",
    "\n",
    "    La tasa de exploración decae gradualmente a medida que el entrenamiento avanza, permitiendo\n",
    "    que el agente confíe más en la política aprendida.\n",
    "\n",
    "    Args:\n",
    "        epsilon (float): Tasa de exploración actual.\n",
    "        epsilon_decay_rate (float): Tasa de decaimiento de epsilon.\n",
    "        episode (int): El número del episodio actual.\n",
    "        min_epsilon (float): El valor mínimo de epsilon (por defecto 0).\n",
    "\n",
    "    Returns:\n",
    "        float: El valor ajustado de epsilon para el siguiente episodio.\n",
    "    \"\"\"\n",
    "    return max(epsilon - decay_rate, 0)\n"
   ]
  },
  {
   "cell_type": "markdown",
   "metadata": {},
   "source": [
    "#### Lógica principal del programa\n",
    "La función `run` es la encargada de controlar el flujo completo de entrenamiento o evaluación del agente en el entorno de MountainCar. \n",
    "\n",
    "Su propósito es ejecutar una serie de episodios, durante los cuales el agente interactúa con el entorno, toma decisiones basadas en su tabla Q, y actualiza la tabla Q según lo aprendido.\n",
    "\n",
    "En esta función, usamos todas las demás anteriores, consiguiendo tener una lógica principal bastante más legible y eficiente.\n",
    "\n",
    "1. **Inicialización:**\n",
    "   - Se configura el entorno de MountainCar usando `gym.make()`.\n",
    "   - Se dividen el espacio de posiciones y velocidades en segmentos usando `np.linspace()` para crear un mapeo discreto.\n",
    "   - Si el agente está en modo de entrenamiento, se inicializa una tabla Q de tamaño correspondiente. Si está en modo de evaluación, se carga una tabla Q previamente entrenada desde un archivo.\n",
    "\n",
    "2. **Ajuste de parámetros:**\n",
    "   - Se inicializan varios parámetros como `epsilon`, `learning_rate_a` y `discount_factor_g`.\n",
    "   - `epsilon` empieza en 1, lo que significa que el agente explorará completamente al principio. A medida que avanzan los episodios, `epsilon` decae, lo que lleva al agente a explotar más su conocimiento y explorar menos.\n",
    "\n",
    "3. **Ejecutando episodios:**\n",
    "   - La función ejecuta un número de episodios (`episodes`). En cada episodio, se llama a la función `run_episode`, que maneja la interacción del agente con el entorno. El agente toma acciones basadas en la política ε-greedy y actualiza la tabla Q según las recompensas obtenidas.\n",
    "\n",
    "4. **Ajuste de epsilon:**\n",
    "   - Después de cada episodio, se ajusta el valor de `epsilon` utilizando la función `adjust_epsilon`. Esto reduce la tasa de exploración a medida que el agente gana más experiencia.\n",
    "\n",
    "5. **Guardar resultados:**\n",
    "   - Si el agente está entrenando, se guarda la tabla Q al final del entrenamiento usando `save_q_table`.\n",
    "   - Además, se genera y guarda un gráfico con las recompensas medias por episodio utilizando la función `plot_rewards`.\n",
    "\n",
    "Por tanto, `run` organiza el ciclo completo de entrenamiento o evaluación, permitiendo que el agente aprenda o utilice una política preexistente mientras ajusta parámetros clave a lo largo de los episodios."
   ]
  },
  {
   "cell_type": "code",
   "execution_count": 38,
   "metadata": {},
   "outputs": [],
   "source": [
    "def run(episodes, is_training=True, render=False):\n",
    "    \"\"\"\n",
    "    Ejecuta el proceso completo de entrenamiento o evaluación del agente en el entorno de MountainCar.\n",
    "\n",
    "    Esta función organiza el ciclo completo de entrenamiento del agente, incluyendo la inicialización\n",
    "    de la tabla Q, la ejecución de los episodios y la actualización de parámetros como epsilon.\n",
    "\n",
    "    Args:\n",
    "        episodes (int): El número de episodios que se ejecutarán.\n",
    "        is_training (bool): Si True, entrena al agente. Si False, evalúa al agente con el modelo entrenado.\n",
    "        render (bool): Si True, muestra el entorno visualmente.\n",
    "\n",
    "    Returns:\n",
    "        None: La función no devuelve nada, pero guarda los resultados de la tabla Q y las recompensas.\n",
    "    \"\"\"\n",
    "    env = create_environment(render)\n",
    "    pos_space, vel_space = create_state_spaces(env)\n",
    "    q = initialize_q_table(pos_space, vel_space, env.action_space, is_training)\n",
    "\n",
    "    learning_rate = 0.9\n",
    "    discount_factor = 0.9\n",
    "    epsilon = 1.0\n",
    "    epsilon_decay_rate = 2 / episodes\n",
    "    rng = np.random.default_rng()\n",
    "\n",
    "    rewards_per_episode = np.zeros(episodes)\n",
    "\n",
    "    for i in range(episodes):\n",
    "        if is_training and (i + 1) % 100 == 0:\n",
    "            print(f\"Entrenando... Episodio {i + 1} de {episodes}\")\n",
    "\n",
    "        rewards_per_episode[i] = run_episode(\n",
    "            env, q, pos_space, vel_space, epsilon, rng, \n",
    "            is_training, learning_rate, discount_factor\n",
    "        )\n",
    "\n",
    "        epsilon = adjust_epsilon(epsilon, epsilon_decay_rate)\n",
    "\n",
    "    env.close()\n",
    "\n",
    "    if is_training:\n",
    "        save_q_table(q)\n",
    "\n",
    "    plot_rewards(rewards_per_episode, episodes)\n"
   ]
  },
  {
   "cell_type": "markdown",
   "metadata": {},
   "source": [
    "#### Entrenamiento del modelo\n",
    "\n",
    "A continuación, se entrena el modelo, con 5000 episodios."
   ]
  },
  {
   "cell_type": "code",
   "execution_count": 39,
   "metadata": {},
   "outputs": [
    {
     "name": "stdout",
     "output_type": "stream",
     "text": [
      "Entrenando... Episodio 100 de 5000\n",
      "Entrenando... Episodio 200 de 5000\n",
      "Entrenando... Episodio 300 de 5000\n",
      "Entrenando... Episodio 400 de 5000\n",
      "Entrenando... Episodio 500 de 5000\n",
      "Entrenando... Episodio 600 de 5000\n",
      "Entrenando... Episodio 700 de 5000\n",
      "Entrenando... Episodio 800 de 5000\n",
      "Entrenando... Episodio 900 de 5000\n",
      "Entrenando... Episodio 1000 de 5000\n",
      "Entrenando... Episodio 1100 de 5000\n",
      "Entrenando... Episodio 1200 de 5000\n",
      "Entrenando... Episodio 1300 de 5000\n",
      "Entrenando... Episodio 1400 de 5000\n",
      "Entrenando... Episodio 1500 de 5000\n",
      "Entrenando... Episodio 1600 de 5000\n",
      "Entrenando... Episodio 1700 de 5000\n",
      "Entrenando... Episodio 1800 de 5000\n",
      "Entrenando... Episodio 1900 de 5000\n",
      "Entrenando... Episodio 2000 de 5000\n",
      "Entrenando... Episodio 2100 de 5000\n",
      "Entrenando... Episodio 2200 de 5000\n",
      "Entrenando... Episodio 2300 de 5000\n",
      "Entrenando... Episodio 2400 de 5000\n",
      "Entrenando... Episodio 2500 de 5000\n",
      "Entrenando... Episodio 2600 de 5000\n",
      "Entrenando... Episodio 2700 de 5000\n",
      "Entrenando... Episodio 2800 de 5000\n",
      "Entrenando... Episodio 2900 de 5000\n",
      "Entrenando... Episodio 3000 de 5000\n",
      "Entrenando... Episodio 3100 de 5000\n",
      "Entrenando... Episodio 3200 de 5000\n",
      "Entrenando... Episodio 3300 de 5000\n",
      "Entrenando... Episodio 3400 de 5000\n",
      "Entrenando... Episodio 3500 de 5000\n",
      "Entrenando... Episodio 3600 de 5000\n",
      "Entrenando... Episodio 3700 de 5000\n",
      "Entrenando... Episodio 3800 de 5000\n",
      "Entrenando... Episodio 3900 de 5000\n",
      "Entrenando... Episodio 4000 de 5000\n",
      "Entrenando... Episodio 4100 de 5000\n",
      "Entrenando... Episodio 4200 de 5000\n",
      "Entrenando... Episodio 4300 de 5000\n",
      "Entrenando... Episodio 4400 de 5000\n",
      "Entrenando... Episodio 4500 de 5000\n",
      "Entrenando... Episodio 4600 de 5000\n",
      "Entrenando... Episodio 4700 de 5000\n",
      "Entrenando... Episodio 4800 de 5000\n",
      "Entrenando... Episodio 4900 de 5000\n",
      "Entrenando... Episodio 5000 de 5000\n"
     ]
    },
    {
     "data": {
      "image/png": "[encoded data removed]",
      "text/plain": [
       "<Figure size 1000x600 with 1 Axes>"
      ]
     },
     "metadata": {},
     "output_type": "display_data"
    }
   ],
   "source": [
    "# Entrenamos el modelo\n",
    "if __name__ == '__main__':\n",
    "    run(5000, is_training= True, render = False)"
   ]
  },
  {
   "cell_type": "markdown",
   "metadata": {},
   "source": [
    "### Conclusiones de la gráfica\n",
    "\n",
    "Como se puede observar, en **los primeros 1000 episodios** las recompensas son muy negativas, lo que indica que el agente no es capaz de llegar correctamente a la meta y además ejecuta casi todas sus acciones de forma aleatoria.\n",
    "\n",
    "Sin embargo, a medida que el valor de epsilon decae, en el **episodio 1100** se puede obervar que las recompensas comienzan a crecer. Esto indica que el agente es capaz poco a poco de llegar a la meta realizando cada vez menos acciones aleatorias.\n",
    "\n",
    "**A partir del episodio 2000**, el aumento en la recompensa sube drásticamente salvando leves picos de bajada, estabilizándose cerca de la iteración 2800 en valores muy cercanos al 0. Esto nos indica que el número de acciones aleatorias es cada vez más pequeño y el agente está usando acciones almacenadas en la tabla Q.\n",
    "\n",
    "**A partir de la iteración 3000**, las recompensas crecen ligeramente y se estabilizan, indicándonos que el modelo es capaz de llegar a la meta en pocos pasos y usando en la inmensa mayor parte de sus acciones el conocimiento que alberga en la tabla Q."
   ]
  },
  {
   "cell_type": "markdown",
   "metadata": {},
   "source": [
    "#### Prueba de ejecución con los pesos\n",
    "\n",
    "Finalmente, se prueba nuestro modelo a partir de los pesos obtenidos anteriormente. Este modelo también ofrecerá una gráfica con las recompensas del modelo, pero no resulta muy significativa, puesto que el modelo ya ha sido entrenado y se quiere verificar su correcto funcionamiento."
   ]
  },
  {
   "cell_type": "code",
   "execution_count": 40,
   "metadata": {},
   "outputs": [
    {
     "data": {
      "image/png": "[encoded data removed]",
      "text/plain": [
       "<Figure size 1000x600 with 1 Axes>"
      ]
     },
     "metadata": {},
     "output_type": "display_data"
    }
   ],
   "source": [
    "# Entrenamos el modelo\n",
    "if __name__ == '__main__':\n",
    "    run(10, is_training= False, render = True)"
   ]
  },
  {
   "cell_type": "markdown",
   "metadata": {},
   "source": [
    "## Conclusiones\n",
    "\n",
    "Como conclusiones, se pueden extraer diferentes ideas.\n",
    "\n",
    "1. La primera de todas es que, tras ejecutar el modelo y visualizar los datos ofrecidos por la gráfica, **el modelo es capaz de llegar satisfactoriamente a la meta en pocos pasos**, tomando como accciones las definidas en la tabla Q.\n",
    "\n",
    "2. Como segunda conclusión, **este segundo notebook ha servido para implementar otro algoritmo diferente de aprendizaje por refuerzo**, enriqueciendo el contenido y conocimientos adquiridos y probando otro modelo diferente de OpenAI Gymnasium.\n",
    "\n",
    "3. Finalmente, **los materiales y código realizados** ofrecen dos agentes bastante satisfactorios, salvaguardando la diferencia de complejidad entre ellos. A continuación, se procederá a actualizar el repositorio con el código final de la práctica."
   ]
  }
 ],
 "metadata": {
  "kernelspec": {
   "display_name": "aa_env",
   "language": "python",
   "name": "python3"
  },
  "language_info": {
   "codemirror_mode": {
    "name": "ipython",
    "version": 3
   },
   "file_extension": ".py",
   "mimetype": "text/x-python",
   "name": "python",
   "nbconvert_exporter": "python",
   "pygments_lexer": "ipython3",
   "version": "3.11.11"
  }
 },
 "nbformat": 4,
 "nbformat_minor": 2
}
