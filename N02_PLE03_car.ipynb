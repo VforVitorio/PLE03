{
 "cells": [
  {
   "cell_type": "markdown",
   "metadata": {},
   "source": [
    "# Notebook 02: Implementación del Mountain Car Continuous\n",
    "## Realizado por Víctor Vega Sobral\n",
    "\n",
    "El objetivo de este notebook es implementar un modelo satisfactorio del problema del coche de la montaña, de la librería de OpenAI gymnasium. \n",
    "\n",
    "De esta forma, se podrá tener dos modelos de diferente complejidad en esta práctica y observar diferentes formas de afronar un problema de aprendizaje por refuerzo.\n",
    "\n",
    "\n",
    "\n",
    "<div style=\"text-align: center;\">\n",
    "  <img src=\"images/car.png\" alt=\"Imagen coche \" width=\"350\">\n",
    "</div>\n"
   ]
  },
  {
   "cell_type": "markdown",
   "metadata": {},
   "source": [
    "## Importación de bibliotecas necesarias"
   ]
  },
  {
   "cell_type": "code",
   "execution_count": null,
   "metadata": {},
   "outputs": [],
   "source": [
    "import gymnasium as gym\n",
    "import numpy as np\n",
    "import random"
   ]
  },
  {
   "cell_type": "markdown",
   "metadata": {},
   "source": [
    "## Referencias de interés\n",
    "\n",
    "1. [Documentación oficial de la librería gymnasium](https://gymnasium.farama.org/environments/classic_control/mountain_car_continuous/)\n",
    "\n",
    "2. [Video de youtube con explicación del problema](https://www.youtube.com/watch?v=_SWnNhM5w-g&t=72s)\n",
    "\n",
    "3. [Imagen de Research Gate con explicación del problema](https://www.researchgate.net/figure/Continuous-Mountain-Car-environment-a-Original-b-Safety-constrained_fig4_366211448)  "
   ]
  },
  {
   "cell_type": "markdown",
   "metadata": {},
   "source": [
    "## Explicación del problema\n",
    "\n",
    "Para una correcta explicación del problema, me remito a traducir la explicación ofrecida por la documentación oficial de OpenAI Gymnasium, añadiendo las modificaciones necesarias para adaptar las explicaciones al formato MarkDown, o añadir aclaraciones:\n",
    "\n",
    "### Descripción\n",
    "El Mountain Car MDP  consiste en un automóvil colocado aleatoriamente al fondo de un valle sinusoidal. Las únicas acciones posibles son las aceleraciones que se pueden aplicar al coche en cualquiera de las dos direcciones. El objetivo del MDP es acelerar estratégicamente el coche para alcanzar el estado objetivo en la cima de la colina derecha, haciendo uso de la inercia o momentum que este tenga.\n",
    "\n",
    "Existen dos versiones de este dominio en Gymnasium: una con acciones discretas y otra con acciones continuas. Esta versión utiliza acciones continuas y será la que se intentará resolver en este notebook.\n",
    "\n",
    "\n",
    "\n",
    "\n",
    "\n",
    "### Espacio de observaciones \n",
    "\n",
    "La observación es un ndarray con forma (2,), donde los elementos corresponden a:\n",
    "\n",
    "| Num | Observación                    | Mínimo | Máximo | Unidad        |\n",
    "|-----|--------------------------------|--------|--------|---------------|\n",
    "| 0   | Posición del coche en el eje x | -Inf   | Inf    | posición (m)  |\n",
    "| 1   | Velocidad del coche            | -Inf   | Inf    | velocidad (m/s) |\n",
    "\n",
    "\n",
    "### Espacio de acciones\n",
    "La acción es un ndarray con forma (1,), que representa la fuerza direccional aplicada al coche. La acción se limita al rango [-1,1] y se multiplica por una potencia de 0.0015.\n",
    "\n",
    "### Dinámica de transición\n",
    "Dada una acción, el coche sigue las siguientes dinámicas de transición:\n",
    "\n",
    "\n",
    "$velocity(t+1) = velocity(t) + force * self.power - 0.0025 * cos(3 * position(t))$\n",
    "\n",
    "$position(t+1) = position(t) + velocity(t+1)$\n",
    "\n",
    "Donde:\n",
    "\n",
    "- **force** es la acción limitada al rango [-1,1].\n",
    "- **power** es una constante de 0.0015.\n",
    "- **Las colisiones en cualquiera de los extremos son inelásticas**, con la velocidad establecida en 0 al chocar con la pared. La posición se limita al rango [-1.2, 0.6] y la velocidad al rango [-0.07, 0.07].\n",
    "\n",
    "### Recompensa\n",
    "Se recibe una recompensa negativa de $-0.1 * action^2$ en cada paso de tiempo para penalizar acciones de gran magnitud. \n",
    "\n",
    "Si el coche alcanza el objetivo, se añade una recompensa positiva de +100 a la recompensa negativa de ese paso.\n",
    "\n",
    "### Estado inicial\n",
    "1. La **posición inicial** del coche se asigna aleatoriamente dentro del rango [-0.6, -0.4].\n",
    "2. La **velocidad inicial** del coche siempre es 0.\n",
    "\n",
    "\n",
    "### Fin del episodio\n",
    "El episodio termina si ocurre cualquiera de las siguientes condiciones:\n",
    "\n",
    "- **Terminación:** La posición del coche es mayor o igual a 0.45 (posición objetivo en la cima de la colina derecha).\n",
    "- **Truncamiento**: La duración del episodio alcanza los 999 pasos.\n",
    "\n"
   ]
  },
  {
   "cell_type": "markdown",
   "metadata": {},
   "source": [
    "## ¿Cómo se va a abordar el problema?\n",
    "\n",
    "Para intentar solucionar este problema, se va a seguir la siguiente estrategia de resolución:\n",
    "\n",
    "<div style=\"text-align: center;\">\n",
    "  <img src=\"images/explicacion_car.png\" alt=\"Imagen de explicación del coche \" width=\"350\">\n",
    "</div>"
   ]
  }
 ],
 "metadata": {
  "kernelspec": {
   "display_name": "aa_env",
   "language": "python",
   "name": "python3"
  },
  "language_info": {
   "name": "python",
   "version": "3.11.11"
  }
 },
 "nbformat": 4,
 "nbformat_minor": 2
}
